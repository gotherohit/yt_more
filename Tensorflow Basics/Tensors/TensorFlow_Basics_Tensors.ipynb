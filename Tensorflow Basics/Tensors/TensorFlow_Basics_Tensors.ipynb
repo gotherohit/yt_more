{
  "nbformat": 4,
  "nbformat_minor": 0,
  "metadata": {
    "colab": {
      "provenance": []
    },
    "kernelspec": {
      "name": "python3",
      "display_name": "Python 3"
    },
    "language_info": {
      "name": "python"
    }
  },
  "cells": [
    {
      "cell_type": "code",
      "source": [
        "import tensorflow as tf\n",
        "import numpy as np"
      ],
      "metadata": {
        "id": "hg5bAAMS06tQ"
      },
      "execution_count": 1,
      "outputs": []
    },
    {
      "cell_type": "markdown",
      "source": [
        "# Some of the Tensors Type in TensorFlow\n",
        "\n",
        "1.   Constant Tensor\n",
        "2.   Variable Tensor\n",
        "3.   Ragged Tensor\n",
        "4.   Sparse Tensor\n",
        "\n",
        "\n"
      ],
      "metadata": {
        "id": "zwlPl6uMAO5p"
      }
    },
    {
      "cell_type": "markdown",
      "source": [
        "# 1. Constant Tensor"
      ],
      "metadata": {
        "id": "dD7NpinmBCxo"
      }
    },
    {
      "cell_type": "code",
      "execution_count": null,
      "metadata": {
        "colab": {
          "base_uri": "https://localhost:8080/"
        },
        "id": "Z6ZJoFFAyJTC",
        "outputId": "4c3d8523-9c04-4985-cefb-f1978e7b9d9d"
      },
      "outputs": [
        {
          "output_type": "stream",
          "name": "stdout",
          "text": [
            "tf.Tensor([1. 2. 3.], shape=(3,), dtype=float32)\n",
            "tf.Tensor(\n",
            "[[1. 1.]\n",
            " [1. 1.]], shape=(2, 2), dtype=float64)\n",
            "tf.Tensor([[1. 1. 1. 1.]], shape=(1, 4), dtype=float64)\n"
          ]
        }
      ],
      "source": [
        "constant = tf.constant([1.0,2.0,3.0])\n",
        "print(constant)\n",
        "# Numpy array can also be passed as an input to tf.constant\n",
        "#shape and dtype is inferred from the input given if not given\n",
        "array = np.ones((2,2))\n",
        "constant_array = tf.constant(array)\n",
        "print(constant_array)\n",
        "#we can also further define shape parameter to reshape the constant tensor\n",
        "constant_reshaped = tf.constant(array,shape=(1,4))\n",
        "print(constant_reshaped)"
      ]
    },
    {
      "cell_type": "code",
      "source": [
        "#Constant tensor cannot be modified. we will get error while trying to do so\n",
        "try:\n",
        "  constant.assign([4.0,5.0,6.0])\n",
        "except AttributeError as e:\n",
        "  print(e)"
      ],
      "metadata": {
        "colab": {
          "base_uri": "https://localhost:8080/"
        },
        "id": "uaRN0Slr0upu",
        "outputId": "68892a5a-4c2e-4a59-89e4-f79af6b821b4"
      },
      "execution_count": null,
      "outputs": [
        {
          "output_type": "stream",
          "name": "stdout",
          "text": [
            "'tensorflow.python.framework.ops.EagerTensor' object has no attribute 'assign'\n"
          ]
        }
      ]
    },
    {
      "cell_type": "code",
      "source": [
        "# Constant tensor can be exported to numpy as well\n",
        "constant_to_numpy = constant.numpy()\n",
        "constant_to_numpy"
      ],
      "metadata": {
        "colab": {
          "base_uri": "https://localhost:8080/"
        },
        "id": "DQn06pWz6N65",
        "outputId": "0c62f562-0734-409f-cfdc-0c72c67b626e"
      },
      "execution_count": null,
      "outputs": [
        {
          "output_type": "execute_result",
          "data": {
            "text/plain": [
              "array([1., 2., 3.], dtype=float32)"
            ]
          },
          "metadata": {},
          "execution_count": 4
        }
      ]
    },
    {
      "cell_type": "markdown",
      "source": [
        "# 2. Variable Tensor"
      ],
      "metadata": {
        "id": "ul4AGo7IBKcI"
      }
    },
    {
      "cell_type": "code",
      "source": [
        "variable = tf.Variable([2,4,6])\n",
        "print(variable)\n",
        "var_arr = np.ones((2,2))\n",
        "variable_array = tf.Variable(var_arr)\n",
        "print(variable_array)"
      ],
      "metadata": {
        "colab": {
          "base_uri": "https://localhost:8080/"
        },
        "id": "qOtXMY-W1Y_p",
        "outputId": "a53c0649-4635-43c4-c07e-f74acfdcbadb"
      },
      "execution_count": null,
      "outputs": [
        {
          "output_type": "stream",
          "name": "stdout",
          "text": [
            "<tf.Variable 'Variable:0' shape=(3,) dtype=int32, numpy=array([2, 4, 6], dtype=int32)>\n",
            "<tf.Variable 'Variable:0' shape=(2, 2) dtype=float64, numpy=\n",
            "array([[1., 1.],\n",
            "       [1., 1.]])>\n"
          ]
        }
      ]
    },
    {
      "cell_type": "code",
      "source": [
        "train_var = tf.Variable(2.0,trainable=True)\n",
        "no_train_var = tf.Variable(3.0,trainable=False)\n",
        "# GradientTape is the tensorflow API used to calcilate gradient w.r.t variable during model training\n",
        "# Will understand this API in more detail in later videos\n",
        "with tf.GradientTape(persistent = True) as tape:\n",
        "  # Defining chain of equation w.r.t variables defined\n",
        "  z1 = train_var * no_train_var\n",
        "  z2 = z1**2\n",
        "# Since no_train_var trainable parameter is set to False,\n",
        "# tensorflow will not watch this variable life-cycle and hence will not give gradient\n",
        "print(tape.gradient(z2,no_train_var))\n",
        "# expected answer dz2/dtrain_var = 2*z1*no_train_var = 2.0*(2.0*3.0)*3.0 = 36.0 -> Simple differentiation\n",
        "print(tape.gradient(z2,train_var))"
      ],
      "metadata": {
        "colab": {
          "base_uri": "https://localhost:8080/"
        },
        "id": "qjK8zwRYRTcd",
        "outputId": "e30ce138-5ece-4dd2-ba4c-234b1273e767"
      },
      "execution_count": null,
      "outputs": [
        {
          "output_type": "stream",
          "name": "stdout",
          "text": [
            "None\n",
            "tf.Tensor(36.0, shape=(), dtype=float32)\n"
          ]
        }
      ]
    },
    {
      "cell_type": "code",
      "source": [
        "default_name = tf.Variable([2.0])\n",
        "print(default_name)\n",
        "#Giving a unique name to variable\n",
        "variable_name = tf.Variable([5.0,6.0,7.0],name='variable_new_name')\n",
        "print(variable_name)\n",
        "# Explicit dtype\n",
        "variable_dtype = tf.Variable([2,3,4],dtype=tf.float64)\n",
        "print(variable_dtype)\n",
        "\n",
        "# We should not give incompatible shape parameter while creating variable\n",
        "try:\n",
        "  var_incompatible_shape = tf.Variable([2,3,4],shape=(2,3))\n",
        "except ValueError as e:\n",
        "  print(e)"
      ],
      "metadata": {
        "colab": {
          "base_uri": "https://localhost:8080/"
        },
        "id": "b5cLw6me15e1",
        "outputId": "2761cf7c-fed8-44d8-d650-5f56391b5f92"
      },
      "execution_count": 5,
      "outputs": [
        {
          "output_type": "stream",
          "name": "stdout",
          "text": [
            "<tf.Variable 'Variable:0' shape=(1,) dtype=float32, numpy=array([2.], dtype=float32)>\n",
            "<tf.Variable 'variable_new_name:0' shape=(3,) dtype=float32, numpy=array([5., 6., 7.], dtype=float32)>\n",
            "<tf.Variable 'Variable:0' shape=(3,) dtype=float64, numpy=array([2., 3., 4.])>\n",
            "In this `tf.Variable` creation, the initial value's shape ((3,)) is not compatible with the explicitly supplied `shape` argument ((2, 3)).\n"
          ]
        }
      ]
    },
    {
      "cell_type": "code",
      "source": [
        "var = tf.Variable([[1,2],[3,4]])\n",
        "print(var)\n",
        "print(var.shape)\n",
        "print(var.dtype)\n",
        "print(var.numpy())"
      ],
      "metadata": {
        "colab": {
          "base_uri": "https://localhost:8080/"
        },
        "id": "dZu5fecl1-Nf",
        "outputId": "0ea697ca-4453-44bf-f1ca-3f6facc11c22"
      },
      "execution_count": null,
      "outputs": [
        {
          "output_type": "stream",
          "name": "stdout",
          "text": [
            "<tf.Variable 'Variable:0' shape=(2, 2) dtype=int32, numpy=\n",
            "array([[1, 2],\n",
            "       [3, 4]], dtype=int32)>\n",
            "(2, 2)\n",
            "<dtype: 'int32'>\n",
            "[[1 2]\n",
            " [3 4]]\n"
          ]
        }
      ]
    },
    {
      "cell_type": "code",
      "source": [
        "var1 = tf.Variable([3,4,5])\n",
        "var2 = tf.Variable(var1)\n",
        "var1.assign([9,1,2])\n",
        "print(var1)\n",
        "print(var2)\n",
        "# We cannot assign value of different shape and type\n",
        "try:\n",
        "  var1.assign([1,2,3,4])\n",
        "except ValueError as e:\n",
        "  print(e)"
      ],
      "metadata": {
        "colab": {
          "base_uri": "https://localhost:8080/"
        },
        "id": "aEX2j7aNtmEy",
        "outputId": "bd4fa516-90a9-4a8b-b03a-f3c7a1c1ade7"
      },
      "execution_count": null,
      "outputs": [
        {
          "output_type": "stream",
          "name": "stdout",
          "text": [
            "<tf.Variable 'Variable:0' shape=(3,) dtype=int32, numpy=array([9, 1, 2], dtype=int32)>\n",
            "<tf.Variable 'Variable:0' shape=(3,) dtype=int32, numpy=array([3, 4, 5], dtype=int32)>\n",
            "Cannot assign value to variable ' Variable:0': Shape mismatch.The variable shape (3,), and the assigned value shape (4,) are incompatible.\n"
          ]
        }
      ]
    },
    {
      "cell_type": "code",
      "source": [
        "try:\n",
        "  var1.assign([1.0,2.0,3.0])\n",
        "except TypeError as e:\n",
        "  print(e)"
      ],
      "metadata": {
        "colab": {
          "base_uri": "https://localhost:8080/"
        },
        "id": "TBezSodGwIj5",
        "outputId": "e76afe43-5ab7-4fc9-903f-cd01fac762ed"
      },
      "execution_count": null,
      "outputs": [
        {
          "output_type": "stream",
          "name": "stdout",
          "text": [
            "Cannot convert [1.0, 2.0, 3.0] to EagerTensor of dtype int32\n"
          ]
        }
      ]
    },
    {
      "cell_type": "code",
      "source": [
        "var2 = tf.Variable([4.0,5.0,1.0])\n",
        "var2.assign_add([4.0,1.0,2.0])\n",
        "print(var2)\n",
        "var2.assign_sub([7.0,9.0,6.0])\n",
        "print(var2)"
      ],
      "metadata": {
        "colab": {
          "base_uri": "https://localhost:8080/"
        },
        "id": "UjFkTRLc9xN_",
        "outputId": "42ee1d40-5eba-4dd7-a2ab-c4ee5b6d5217"
      },
      "execution_count": null,
      "outputs": [
        {
          "output_type": "stream",
          "name": "stdout",
          "text": [
            "<tf.Variable 'Variable:0' shape=(3,) dtype=float32, numpy=array([8., 6., 3.], dtype=float32)>\n",
            "<tf.Variable 'Variable:0' shape=(3,) dtype=float32, numpy=array([ 1., -3., -3.], dtype=float32)>\n"
          ]
        }
      ]
    },
    {
      "cell_type": "markdown",
      "source": [
        "# 3. Ragged Tensor"
      ],
      "metadata": {
        "id": "sQItXE7Wy5tX"
      }
    },
    {
      "cell_type": "code",
      "source": [
        "non_rect_arr = [ [1.0,2.0,3.0],\n",
        "                 [5.0,7.0],\n",
        "                 [9.0]\n",
        "                ]\n",
        "try:\n",
        "  non_rect_const = tf.constant(non_rect_arr)\n",
        "except ValueError as e:\n",
        "  print(e)\n",
        "ragged_tensor = tf.ragged.constant(non_rect_arr)\n",
        "print(ragged_tensor)\n",
        "print(ragged_tensor.shape)"
      ],
      "metadata": {
        "colab": {
          "base_uri": "https://localhost:8080/"
        },
        "id": "T5VWlpqpy_Jm",
        "outputId": "8efefbf3-2e31-42cf-b966-8b4e8840c747"
      },
      "execution_count": null,
      "outputs": [
        {
          "output_type": "stream",
          "name": "stdout",
          "text": [
            "Can't convert non-rectangular Python sequence to Tensor.\n",
            "<tf.RaggedTensor [[1.0, 2.0, 3.0], [5.0, 7.0], [9.0]]>\n",
            "(3, None)\n"
          ]
        }
      ]
    },
    {
      "cell_type": "code",
      "source": [
        "ragged1 = tf.RaggedTensor.from_value_rowids(\n",
        "    values=[3, 1, 4, 1, 5, 9, 2],\n",
        "    value_rowids=[0, 0, 0, 0, 2, 2, 3])\n",
        "print(ragged1)"
      ],
      "metadata": {
        "colab": {
          "base_uri": "https://localhost:8080/"
        },
        "id": "n_axzYPH3ohX",
        "outputId": "6c3d8eca-08a4-4c24-ea3e-9937a90cf1b7"
      },
      "execution_count": null,
      "outputs": [
        {
          "output_type": "stream",
          "name": "stdout",
          "text": [
            "<tf.RaggedTensor [[3, 1, 4, 1], [], [5, 9], [2]]>\n"
          ]
        }
      ]
    },
    {
      "cell_type": "code",
      "source": [
        "ragged2 = tf.RaggedTensor.from_row_lengths(\n",
        "    values=[3, 1, 4, 1, 5, 9, 2],\n",
        "    row_lengths=[4, 0, 2, 1]\n",
        "    )\n",
        "print(ragged2)"
      ],
      "metadata": {
        "colab": {
          "base_uri": "https://localhost:8080/"
        },
        "id": "3Nm7wM_Y4soB",
        "outputId": "565c916e-8867-4dbe-cd4d-2ad2a3dd893c"
      },
      "execution_count": null,
      "outputs": [
        {
          "output_type": "stream",
          "name": "stdout",
          "text": [
            "<tf.RaggedTensor [[3, 1, 4, 1], [], [5, 9], [2]]>\n"
          ]
        }
      ]
    },
    {
      "cell_type": "markdown",
      "source": [
        "# 4. Sparse Tensor"
      ],
      "metadata": {
        "id": "Vanr0jI0HJkH"
      }
    },
    {
      "cell_type": "code",
      "source": [
        "'''\n",
        "Consider below example where most of the entries is 0. If we can store only\n",
        "non-zero values and its coordiante it will be more efficient than storing\n",
        "complete tensor. tf.sparse.SparseTesnor is used to store exactly these kind\n",
        "of sparse tensor.\n",
        "\n",
        "[[1,0,0,0],\n",
        "  [0,2,0,0],\n",
        "  [0,0,0,0],\n",
        "  [0,0,0,0]]\n",
        "\n",
        "'''\n",
        "sparse_tensor = tf.sparse.SparseTensor(indices = [[0,0],[1,1]],values = [1,2],dense_shape = [4,4])\n",
        "print(sparse_tensor)\n",
        "# We can convert sparse tensor to dense tensor\n",
        "print(tf.sparse.to_dense(sparse_tensor))"
      ],
      "metadata": {
        "colab": {
          "base_uri": "https://localhost:8080/"
        },
        "id": "-BraCd4YHO6H",
        "outputId": "53c939fd-0d2b-49b8-8bb4-e3333e5c82c0"
      },
      "execution_count": null,
      "outputs": [
        {
          "output_type": "stream",
          "name": "stdout",
          "text": [
            "SparseTensor(indices=tf.Tensor(\n",
            "[[0 0]\n",
            " [1 1]], shape=(2, 2), dtype=int64), values=tf.Tensor([1 2], shape=(2,), dtype=int32), dense_shape=tf.Tensor([4 4], shape=(2,), dtype=int64))\n",
            "tf.Tensor(\n",
            "[[1 0 0 0]\n",
            " [0 2 0 0]\n",
            " [0 0 0 0]\n",
            " [0 0 0 0]], shape=(4, 4), dtype=int32)\n"
          ]
        }
      ]
    },
    {
      "cell_type": "markdown",
      "source": [
        "Indexing the Tensor"
      ],
      "metadata": {
        "id": "ubJf-YA_PcfV"
      }
    },
    {
      "cell_type": "code",
      "source": [
        "# Single axis Tensor\n",
        "single_axis_Tensor = tf.constant([1,2,3,4,5,6,7,8,9])\n",
        "print(single_axis_Tensor)\n",
        "# Axis will be gone\n",
        "print(single_axis_Tensor[3])\n",
        "# We will keep axis using :\n",
        "print(single_axis_Tensor[2:3])\n",
        "# Select from begining to end but take every second element\n",
        "print(single_axis_Tensor[0:11:2])\n",
        "# print in reverse order using negative index\n",
        "print(single_axis_Tensor[::-1])"
      ],
      "metadata": {
        "colab": {
          "base_uri": "https://localhost:8080/"
        },
        "id": "o1du_InVPhcO",
        "outputId": "e2db71b4-34ac-4314-b525-a40081e1c518"
      },
      "execution_count": null,
      "outputs": [
        {
          "output_type": "stream",
          "name": "stdout",
          "text": [
            "tf.Tensor([1 2 3 4 5 6 7 8 9], shape=(9,), dtype=int32)\n",
            "tf.Tensor(4, shape=(), dtype=int32)\n",
            "tf.Tensor([3], shape=(1,), dtype=int32)\n",
            "tf.Tensor([1 3 5 7 9], shape=(5,), dtype=int32)\n",
            "tf.Tensor([9 8 7 6 5 4 3 2 1], shape=(9,), dtype=int32)\n"
          ]
        }
      ]
    },
    {
      "cell_type": "code",
      "source": [
        "# Multi Axis Tensor\n",
        "multi_axis_tensor1 = tf.constant([\n",
        "    [1,2,3,4],\n",
        "    [5,6,7,8],\n",
        "    [9,10,11,12]\n",
        "    ])\n",
        "print(multi_axis_tensor1)\n",
        "print(multi_axis_tensor1[:-1,0:2])"
      ],
      "metadata": {
        "colab": {
          "base_uri": "https://localhost:8080/"
        },
        "id": "6JD7tpJCR_dd",
        "outputId": "6ebec8f7-49c0-4fbc-8fc5-c53848baf724"
      },
      "execution_count": null,
      "outputs": [
        {
          "output_type": "stream",
          "name": "stdout",
          "text": [
            "tf.Tensor(\n",
            "[[ 1  2  3  4]\n",
            " [ 5  6  7  8]\n",
            " [ 9 10 11 12]], shape=(3, 4), dtype=int32)\n",
            "tf.Tensor(\n",
            "[[1 2]\n",
            " [5 6]], shape=(2, 2), dtype=int32)\n"
          ]
        }
      ]
    },
    {
      "cell_type": "code",
      "source": [
        "multi_axis_tensor2 = tf.constant([\n",
        "    [[1,2,3],[4,5,6]],\n",
        "    [[7,8,9],[10,11,12]],\n",
        "    [[13,14,15],[16,17,18]],\n",
        "    [[19,20,21],[22,23,24]]\n",
        "    ])\n",
        "print(multi_axis_tensor2)"
      ],
      "metadata": {
        "colab": {
          "base_uri": "https://localhost:8080/"
        },
        "id": "G4Cgv0q9Xht-",
        "outputId": "ef529168-0e7b-44e4-9caa-91c74d9b1aac"
      },
      "execution_count": null,
      "outputs": [
        {
          "output_type": "stream",
          "name": "stdout",
          "text": [
            "tf.Tensor(\n",
            "[[[ 1  2  3]\n",
            "  [ 4  5  6]]\n",
            "\n",
            " [[ 7  8  9]\n",
            "  [10 11 12]]\n",
            "\n",
            " [[13 14 15]\n",
            "  [16 17 18]]\n",
            "\n",
            " [[19 20 21]\n",
            "  [22 23 24]]], shape=(4, 2, 3), dtype=int32)\n"
          ]
        }
      ]
    },
    {
      "cell_type": "code",
      "source": [
        "print(multi_axis_tensor2[:,:,0])"
      ],
      "metadata": {
        "colab": {
          "base_uri": "https://localhost:8080/"
        },
        "id": "VhM8lNujaOo0",
        "outputId": "75740266-2e8e-440b-ed50-a5d8fcb54016"
      },
      "execution_count": null,
      "outputs": [
        {
          "output_type": "stream",
          "name": "stdout",
          "text": [
            "tf.Tensor(\n",
            "[[ 1  4]\n",
            " [ 7 10]\n",
            " [13 16]\n",
            " [19 22]], shape=(4, 2), dtype=int32)\n"
          ]
        }
      ]
    },
    {
      "cell_type": "markdown",
      "source": [
        "Reshaping Tensors"
      ],
      "metadata": {
        "id": "w6FJxiHDsD1S"
      }
    },
    {
      "cell_type": "code",
      "source": [
        "constant_tensor = tf.constant([1,2,3,4,5,6,7,8,9,0])\n",
        "print(constant_tensor)\n",
        "print(tf.reshape(constant_tensor,[5,2]))"
      ],
      "metadata": {
        "colab": {
          "base_uri": "https://localhost:8080/"
        },
        "id": "bAyfhEAYsGqF",
        "outputId": "9346827c-f3f8-4ffa-d1f2-fddfab8a2623"
      },
      "execution_count": null,
      "outputs": [
        {
          "output_type": "stream",
          "name": "stdout",
          "text": [
            "tf.Tensor([1 2 3 4 5 6 7 8 9 0], shape=(10,), dtype=int32)\n",
            "tf.Tensor(\n",
            "[[1 2]\n",
            " [3 4]\n",
            " [5 6]\n",
            " [7 8]\n",
            " [9 0]], shape=(5, 2), dtype=int32)\n"
          ]
        }
      ]
    },
    {
      "cell_type": "code",
      "source": [
        "#flatten the tensor\n",
        "constant_tesnor_1 = tf.constant([[1,2,3],[4,5,6]])\n",
        "print(constant_tesnor_1)\n",
        "print(tf.reshape(constant_tesnor_1,[-1]))"
      ],
      "metadata": {
        "colab": {
          "base_uri": "https://localhost:8080/"
        },
        "id": "FSTbuNWds_jy",
        "outputId": "ff92a671-86a8-4b39-b3e0-79cb4c56ca89"
      },
      "execution_count": null,
      "outputs": [
        {
          "output_type": "stream",
          "name": "stdout",
          "text": [
            "tf.Tensor(\n",
            "[[1 2 3]\n",
            " [4 5 6]], shape=(2, 3), dtype=int32)\n",
            "tf.Tensor([1 2 3 4 5 6], shape=(6,), dtype=int32)\n"
          ]
        }
      ]
    },
    {
      "cell_type": "code",
      "source": [
        "#combining adjacent axis\n",
        "print(multi_axis_tensor2)\n",
        "print(tf.reshape(multi_axis_tensor2,[4*2,-1]))"
      ],
      "metadata": {
        "colab": {
          "base_uri": "https://localhost:8080/"
        },
        "id": "gV0eYfG7tfQq",
        "outputId": "e0cce86d-d89b-4385-82f6-caa59902bc9e"
      },
      "execution_count": null,
      "outputs": [
        {
          "output_type": "stream",
          "name": "stdout",
          "text": [
            "tf.Tensor(\n",
            "[[[ 1  2  3]\n",
            "  [ 4  5  6]]\n",
            "\n",
            " [[ 7  8  9]\n",
            "  [10 11 12]]\n",
            "\n",
            " [[13 14 15]\n",
            "  [16 17 18]]\n",
            "\n",
            " [[19 20 21]\n",
            "  [22 23 24]]], shape=(4, 2, 3), dtype=int32)\n",
            "tf.Tensor(\n",
            "[[ 1  2  3]\n",
            " [ 4  5  6]\n",
            " [ 7  8  9]\n",
            " [10 11 12]\n",
            " [13 14 15]\n",
            " [16 17 18]\n",
            " [19 20 21]\n",
            " [22 23 24]], shape=(8, 3), dtype=int32)\n"
          ]
        }
      ]
    }
  ]
}